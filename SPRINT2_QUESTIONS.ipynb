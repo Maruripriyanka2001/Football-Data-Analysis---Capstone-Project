{
 "cells": [
  {
   "cell_type": "code",
   "execution_count": null,
   "id": "7eb203c0-095f-4269-b49a-b8787fbff332",
   "metadata": {},
   "outputs": [],
   "source": [
    "# SPRINT 1 BUSINESS OBJECTIVE QUESTIONS :\n",
    " -- DATA MERGING,DATA PREPROCESSING,DATA CLEANING ETC. SAVE THE CLEANED DATA FILE AND USE IT FOR ALL FURTHER SPRINTS OF THIS PROJECT\n"
   ]
  },
  {
   "cell_type": "code",
   "execution_count": null,
   "id": "98c29d2d-9ade-4b32-91c1-3977ff02a09f",
   "metadata": {},
   "outputs": [],
   "source": [
    "# SPRINT 3 BUSINESS OBJECTIVE QUESTIONS : PERFORMANCE ANALYSIS,PROBABILITY,SAMPLING\n",
    "1)Evaluate and analyze which player's performance has the highest impact on match outcomes based on goals and assists?\n",
    "2)Which players contributed the most goals and assists in the year of 2016?\n",
    "3)Which teams have the highest number of yellow and red cards in home club?\n",
    "4)What is the probability that a player scored a goal and received a yellow card in the same match?\n",
    "5)What is the probability that a player scoring a goal within atleast 45 minutes\n",
    "6)DISTRIBUTION OF AVERAGE GOALS SCORED\n"
   ]
  },
  {
   "cell_type": "code",
   "execution_count": null,
   "id": "78503816-d8b2-4631-b8ec-713d4c641abf",
   "metadata": {},
   "outputs": [],
   "source": [
    "# SPRINT 4 BUSINESS OBJECTIVE QUESTIONS : PERFORMANCE ANALYSIS,PLAYER PROFILE AND MARKET VALUE.\n",
    "1)Can we predict if a player will have a high-performance match based on historical data?\n",
    "2)Can we predict whether a football clubs will win or lose a game based on factors such as the number of goals scored, attendance home/away status, and other etc..?\n",
    "3)Which players have the highest market value based on goals and assist in the  dataset?\n",
    "4)Which player positions contribute the most assists and goals?\n",
    "5)DOES PLAYER NATIONALITY INFLUENCE THEIR MARKET VALUE?\n",
    "6)WHICH POSITION HAS HIGHEST AVERAGE MARKET VALUE ?"
   ]
  },
  {
   "cell_type": "code",
   "execution_count": null,
   "id": "2a8c89b6-0ebc-4144-9f48-d020a3bd5a05",
   "metadata": {},
   "outputs": [],
   "source": [
    "# SPRINT 5 BUSINESS OBJECTIVE QUESTIONS : PLAYER PROFILE AND MARKET VALUE\n",
    "1)How do a player's performance metrics influence their market value?\n",
    "2)HOW DOES THE HIGHEST MARKET VALUE IMPACT THEIR CURRENT MARKET VALUE ?\n",
    "3)Predict which player has highest market value using career statistics."
   ]
  },
  {
   "cell_type": "code",
   "execution_count": null,
   "id": "46a73d21-bee4-415b-8006-406a1fcae751",
   "metadata": {},
   "outputs": [],
   "source": [
    "# SPRINT 6 BUSINESS OBJECTIVE QUESTIONS : TEAM COMPARISION\n",
    "1)Correlation Between Minutes Played and Market Value\n",
    "2)T-test for Two-Sample Comparison between the goals scored by home teams and away teams\n",
    "3)Does a player’s foot preference (left/right) influence their goal-scoring ability?\n",
    "4)Identify the top 10 players with the most goals scored in home club?\n",
    "5)What is the average market value of players, and how does it vary by position in home club?\n"
   ]
  },
  {
   "cell_type": "code",
   "execution_count": null,
   "id": "bd7c5f41-3d45-4f96-a131-66d853783ed9",
   "metadata": {},
   "outputs": [],
   "source": [
    "# SPRINT 7 BUSINESS OBJECTIVE QUESTIONS :ATTENDANCE AND STADIUM ANALYSIS\n",
    "1): How has the average attendance changed over time?\n",
    "2)Which teams attract the highest average attendance at home club ?\n",
    "3)Which stadiums consistently perform better in terms of attendance?\n",
    "4)What is the impact of competition type on attendance?\n",
    "5)Can we predict if a player is \"High\" or \"Low\" performance based on their goals, assists, and minutes played?\n",
    "6)Can we classify stadiums based on their likelihood of hosting high-attendance matches?\n"
   ]
  },
  {
   "cell_type": "code",
   "execution_count": null,
   "id": "9d4c3bf7-8bc6-44c2-b8eb-c5d3661b2220",
   "metadata": {},
   "outputs": [],
   "source": [
    "# SPRINT 8 BUSINESS OBJECTIVE QUESTIONS : REFERE ANALYSIS , SUBSTITUTION ANALYSIS, EVENT ANALYSIS\n",
    "1)Which referees have officiated the most games across different competitions?\n",
    "2)What is the distribution of  yellow cards and red cards issued by referees across different leagues or competitions?\n",
    "3)DISTRIBUTION OF PLAYER SUBSTITUTIONS OVER THE YEARS.\n",
    "4)What is the relationship between the number of substitutions and a team’s overall performance in a season?\n",
    "5)Which players are most likely to be involved in key events (goals, assists, cards)?\n",
    "6)How does the timing of events (goals, cards, penalties) affect game outcomes?\n"
   ]
  },
  {
   "cell_type": "code",
   "execution_count": null,
   "id": "49ce090a-3139-451f-8cc3-5c4ea08991ad",
   "metadata": {},
   "outputs": [],
   "source": [
    "# SPRINT 9 BUSINESS OBJECTIVE QUESTIONS :Event Analysis\n",
    "1)Impact of Attendance on Goals Scored\n",
    "2)Home Advantage question:\n",
    "Null Hypothesis (H0): Home teams do not score significantly more goals than away teams. Alternative Hypothesis (𝐻𝑎): Home teams score significantly more goals than away teams.¶\n",
    "3)Which competition type has the highest  goals scored in home club and away club?\n",
    "4)Which competition has the highest average yellow cards per match?\n",
    "5)Which competition has the highest average stadium attendance?\n",
    "6)Are goals per match increasing or decreasing over seasons for specific competitions?"
   ]
  },
  {
   "cell_type": "code",
   "execution_count": null,
   "id": "0c468b43-daab-4568-9c7b-e0df39d7f813",
   "metadata": {},
   "outputs": [],
   "source": [
    "# SPRINT 10 BUSINESS OBJECTIVE QUESTIONS :PLAYER ATTRIBUTES AND DEMOGRAPHICS\n",
    "1)Which countries produce the most valuable players?\n",
    "2)How does the player's position impact their market value?\n",
    "3)Which players have the highest market value?\n",
    "4)How does contract expiration affect market value?\n",
    "5)How can we segment players based on performance?\n",
    "6)Which players have the longest contract durations?\n",
    "7)How many contracts are handled by each agent, grouped by position?\n",
    "8)Which positions have the highest average contract duration?\n",
    "9)How does the player's market value influence the contract duration?"
   ]
  }
 ],
 "metadata": {
  "kernelspec": {
   "display_name": "Python 3 (ipykernel)",
   "language": "python",
   "name": "python3"
  },
  "language_info": {
   "codemirror_mode": {
    "name": "ipython",
    "version": 3
   },
   "file_extension": ".py",
   "mimetype": "text/x-python",
   "name": "python",
   "nbconvert_exporter": "python",
   "pygments_lexer": "ipython3",
   "version": "3.12.4"
  }
 },
 "nbformat": 4,
 "nbformat_minor": 5
}
